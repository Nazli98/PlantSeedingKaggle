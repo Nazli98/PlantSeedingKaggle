{
  "cells": [
    {
      "cell_type": "markdown",
      "source": [
        "**Determine the species of a seedling from an image**\n",
        "\n",
        "This dataset containing images of approximately 960 unique plants belonging to 12 species at several growth stages."
      ],
      "metadata": {
        "id": "lx3DZhvkvpW2"
      }
    },
    {
      "cell_type": "code",
      "execution_count": null,
      "metadata": {
        "id": "MX8r2Wx1Nk2R"
      },
      "outputs": [],
      "source": [
        "! pip install -q kaggle"
      ]
    },
    {
      "cell_type": "code",
      "execution_count": null,
      "metadata": {
        "colab": {
          "base_uri": "https://localhost:8080/",
          "height": 96
        },
        "id": "z6_UOEXBNmUL",
        "outputId": "7bed4a42-0115-4e78-a827-1dade2724b62"
      },
      "outputs": [
        {
          "output_type": "display_data",
          "data": {
            "text/plain": [
              "<IPython.core.display.HTML object>"
            ],
            "text/html": [
              "\n",
              "     <input type=\"file\" id=\"files-af72e90d-babf-48cf-8725-2173bd80a6de\" name=\"files[]\" multiple disabled\n",
              "        style=\"border:none\" />\n",
              "     <output id=\"result-af72e90d-babf-48cf-8725-2173bd80a6de\">\n",
              "      Upload widget is only available when the cell has been executed in the\n",
              "      current browser session. Please rerun this cell to enable.\n",
              "      </output>\n",
              "      <script>// Copyright 2017 Google LLC\n",
              "//\n",
              "// Licensed under the Apache License, Version 2.0 (the \"License\");\n",
              "// you may not use this file except in compliance with the License.\n",
              "// You may obtain a copy of the License at\n",
              "//\n",
              "//      http://www.apache.org/licenses/LICENSE-2.0\n",
              "//\n",
              "// Unless required by applicable law or agreed to in writing, software\n",
              "// distributed under the License is distributed on an \"AS IS\" BASIS,\n",
              "// WITHOUT WARRANTIES OR CONDITIONS OF ANY KIND, either express or implied.\n",
              "// See the License for the specific language governing permissions and\n",
              "// limitations under the License.\n",
              "\n",
              "/**\n",
              " * @fileoverview Helpers for google.colab Python module.\n",
              " */\n",
              "(function(scope) {\n",
              "function span(text, styleAttributes = {}) {\n",
              "  const element = document.createElement('span');\n",
              "  element.textContent = text;\n",
              "  for (const key of Object.keys(styleAttributes)) {\n",
              "    element.style[key] = styleAttributes[key];\n",
              "  }\n",
              "  return element;\n",
              "}\n",
              "\n",
              "// Max number of bytes which will be uploaded at a time.\n",
              "const MAX_PAYLOAD_SIZE = 100 * 1024;\n",
              "\n",
              "function _uploadFiles(inputId, outputId) {\n",
              "  const steps = uploadFilesStep(inputId, outputId);\n",
              "  const outputElement = document.getElementById(outputId);\n",
              "  // Cache steps on the outputElement to make it available for the next call\n",
              "  // to uploadFilesContinue from Python.\n",
              "  outputElement.steps = steps;\n",
              "\n",
              "  return _uploadFilesContinue(outputId);\n",
              "}\n",
              "\n",
              "// This is roughly an async generator (not supported in the browser yet),\n",
              "// where there are multiple asynchronous steps and the Python side is going\n",
              "// to poll for completion of each step.\n",
              "// This uses a Promise to block the python side on completion of each step,\n",
              "// then passes the result of the previous step as the input to the next step.\n",
              "function _uploadFilesContinue(outputId) {\n",
              "  const outputElement = document.getElementById(outputId);\n",
              "  const steps = outputElement.steps;\n",
              "\n",
              "  const next = steps.next(outputElement.lastPromiseValue);\n",
              "  return Promise.resolve(next.value.promise).then((value) => {\n",
              "    // Cache the last promise value to make it available to the next\n",
              "    // step of the generator.\n",
              "    outputElement.lastPromiseValue = value;\n",
              "    return next.value.response;\n",
              "  });\n",
              "}\n",
              "\n",
              "/**\n",
              " * Generator function which is called between each async step of the upload\n",
              " * process.\n",
              " * @param {string} inputId Element ID of the input file picker element.\n",
              " * @param {string} outputId Element ID of the output display.\n",
              " * @return {!Iterable<!Object>} Iterable of next steps.\n",
              " */\n",
              "function* uploadFilesStep(inputId, outputId) {\n",
              "  const inputElement = document.getElementById(inputId);\n",
              "  inputElement.disabled = false;\n",
              "\n",
              "  const outputElement = document.getElementById(outputId);\n",
              "  outputElement.innerHTML = '';\n",
              "\n",
              "  const pickedPromise = new Promise((resolve) => {\n",
              "    inputElement.addEventListener('change', (e) => {\n",
              "      resolve(e.target.files);\n",
              "    });\n",
              "  });\n",
              "\n",
              "  const cancel = document.createElement('button');\n",
              "  inputElement.parentElement.appendChild(cancel);\n",
              "  cancel.textContent = 'Cancel upload';\n",
              "  const cancelPromise = new Promise((resolve) => {\n",
              "    cancel.onclick = () => {\n",
              "      resolve(null);\n",
              "    };\n",
              "  });\n",
              "\n",
              "  // Wait for the user to pick the files.\n",
              "  const files = yield {\n",
              "    promise: Promise.race([pickedPromise, cancelPromise]),\n",
              "    response: {\n",
              "      action: 'starting',\n",
              "    }\n",
              "  };\n",
              "\n",
              "  cancel.remove();\n",
              "\n",
              "  // Disable the input element since further picks are not allowed.\n",
              "  inputElement.disabled = true;\n",
              "\n",
              "  if (!files) {\n",
              "    return {\n",
              "      response: {\n",
              "        action: 'complete',\n",
              "      }\n",
              "    };\n",
              "  }\n",
              "\n",
              "  for (const file of files) {\n",
              "    const li = document.createElement('li');\n",
              "    li.append(span(file.name, {fontWeight: 'bold'}));\n",
              "    li.append(span(\n",
              "        `(${file.type || 'n/a'}) - ${file.size} bytes, ` +\n",
              "        `last modified: ${\n",
              "            file.lastModifiedDate ? file.lastModifiedDate.toLocaleDateString() :\n",
              "                                    'n/a'} - `));\n",
              "    const percent = span('0% done');\n",
              "    li.appendChild(percent);\n",
              "\n",
              "    outputElement.appendChild(li);\n",
              "\n",
              "    const fileDataPromise = new Promise((resolve) => {\n",
              "      const reader = new FileReader();\n",
              "      reader.onload = (e) => {\n",
              "        resolve(e.target.result);\n",
              "      };\n",
              "      reader.readAsArrayBuffer(file);\n",
              "    });\n",
              "    // Wait for the data to be ready.\n",
              "    let fileData = yield {\n",
              "      promise: fileDataPromise,\n",
              "      response: {\n",
              "        action: 'continue',\n",
              "      }\n",
              "    };\n",
              "\n",
              "    // Use a chunked sending to avoid message size limits. See b/62115660.\n",
              "    let position = 0;\n",
              "    do {\n",
              "      const length = Math.min(fileData.byteLength - position, MAX_PAYLOAD_SIZE);\n",
              "      const chunk = new Uint8Array(fileData, position, length);\n",
              "      position += length;\n",
              "\n",
              "      const base64 = btoa(String.fromCharCode.apply(null, chunk));\n",
              "      yield {\n",
              "        response: {\n",
              "          action: 'append',\n",
              "          file: file.name,\n",
              "          data: base64,\n",
              "        },\n",
              "      };\n",
              "\n",
              "      let percentDone = fileData.byteLength === 0 ?\n",
              "          100 :\n",
              "          Math.round((position / fileData.byteLength) * 100);\n",
              "      percent.textContent = `${percentDone}% done`;\n",
              "\n",
              "    } while (position < fileData.byteLength);\n",
              "  }\n",
              "\n",
              "  // All done.\n",
              "  yield {\n",
              "    response: {\n",
              "      action: 'complete',\n",
              "    }\n",
              "  };\n",
              "}\n",
              "\n",
              "scope.google = scope.google || {};\n",
              "scope.google.colab = scope.google.colab || {};\n",
              "scope.google.colab._files = {\n",
              "  _uploadFiles,\n",
              "  _uploadFilesContinue,\n",
              "};\n",
              "})(self);\n",
              "</script> "
            ]
          },
          "metadata": {}
        },
        {
          "output_type": "stream",
          "name": "stdout",
          "text": [
            "Saving kaggle.json to kaggle.json\n"
          ]
        },
        {
          "output_type": "execute_result",
          "data": {
            "text/plain": [
              "{'kaggle.json': b'{\"username\":\"nazlimehrabi\",\"key\":\"3197413652984a5320eb97ca2a818287\"}'}"
            ]
          },
          "metadata": {},
          "execution_count": 2
        }
      ],
      "source": [
        "from google.colab import files\n",
        "files.upload()"
      ]
    },
    {
      "cell_type": "code",
      "execution_count": null,
      "metadata": {
        "id": "sdeXX8VMuVq1"
      },
      "outputs": [],
      "source": [
        "!mkdir ~/.kaggle/"
      ]
    },
    {
      "cell_type": "code",
      "execution_count": null,
      "metadata": {
        "id": "jCC9w-S7ONQo"
      },
      "outputs": [],
      "source": [
        "!cp kaggle.json ~/.kaggle/"
      ]
    },
    {
      "cell_type": "code",
      "execution_count": null,
      "metadata": {
        "id": "ld_WPCKJOW18"
      },
      "outputs": [],
      "source": [
        "! chmod 600 ~/.kaggle/kaggle.json"
      ]
    },
    {
      "cell_type": "code",
      "execution_count": null,
      "metadata": {
        "colab": {
          "base_uri": "https://localhost:8080/"
        },
        "id": "9trnMqHgOmzQ",
        "outputId": "8e68afe2-8347-4311-a77b-08c89a7121db"
      },
      "outputs": [
        {
          "output_type": "stream",
          "name": "stdout",
          "text": [
            "ref                                                             title                                                size  lastUpdated          downloadCount  voteCount  usabilityRating  \n",
            "--------------------------------------------------------------  --------------------------------------------------  -----  -------------------  -------------  ---------  ---------------  \n",
            "akshaydattatraykhare/diabetes-dataset                           Diabetes Dataset                                      9KB  2022-10-06 08:55:25           3253         99  1.0              \n",
            "whenamancodes/covid-19-coronavirus-pandemic-dataset             COVID -19 Coronavirus Pandemic Dataset               11KB  2022-09-30 04:05:11           2737         81  1.0              \n",
            "thedevastator/a-complete-history-of-nobel-prize-winners         Nobel Prize Winners                                   1MB  2022-10-08 00:09:57            648         23  1.0              \n",
            "thedevastator/fast-food-restaurants-in-the-united-states        Fast Food Restaurants in the United States            4MB  2022-10-08 17:30:38            916         25  1.0              \n",
            "whenamancodes/students-performance-in-exams                     Students Performance in Exams                         9KB  2022-09-14 15:14:54           5607        101  1.0              \n",
            "whenamancodes/student-performance                               Student Performance                                 104KB  2022-10-07 05:14:47           4998        121  1.0              \n",
            "anushabellam/cars-cars-2                                        Cars_India_dataset                                    4KB  2022-10-12 06:34:20            510         22  1.0              \n",
            "iamsouravbanerjee/computer-games-dataset                        Computer Games Dataset                               29KB  2022-10-11 14:36:33            366         38  1.0              \n",
            "kathir1k/youtube-influencers-data                               Youtube Channel and Influencer Analysis             196KB  2022-10-13 16:30:21            393         24  0.85294116       \n",
            "whenamancodes/flight-delay-prediction                           Flight Delay Prediction                              31MB  2022-10-07 05:26:20           1003         31  0.88235295       \n",
            "narayan63/netflix-popular-movies-dataset                        Netflix popular movies dataset                        1MB  2022-09-24 08:23:22           3081         53  0.9411765        \n",
            "evangower/premier-league-matches-19922022                       Premier League Matches 1992-2022                     78KB  2022-10-03 02:18:33           1116         43  1.0              \n",
            "whenamancodes/alcohol-effects-on-study                          Alcohol Effects On Study                             18KB  2022-09-15 03:21:04           3825         82  1.0              \n",
            "kathuman/housing                                                Housing                                             400KB  2022-09-29 10:21:23            712         26  1.0              \n",
            "whenamancodes/the-global-hunger-index                           The Global Hunger Index                              27KB  2022-09-13 18:18:01           1071         34  1.0              \n",
            "eliasturk/world-happiness-based-on-cpi-20152020                 Happiness and Corruption 2015-2020                   29KB  2022-10-11 22:35:03            607         26  1.0              \n",
            "jfreyberg/spotify-artist-feature-collaboration-network          Spotify Artist Feature Collaboration Network         15MB  2022-10-10 14:11:34            301         21  0.9117647        \n",
            "pantanjali/unemployment-dataset                                 Unemployment dataset                                 17KB  2022-09-08 08:26:10           6159        138  1.0              \n",
            "adnananam/spotify-artist-stats                                  Spotify Artist Stats                                 28KB  2022-09-22 03:22:44           1383         34  1.0              \n",
            "thedevastator/fuel-economy-data-how-efficient-are-today-s-cars  Fuel Economy Data: How Efficient Are Today's Cars?    1MB  2022-10-09 16:47:41            668         25  0.9411765        \n"
          ]
        }
      ],
      "source": [
        "! kaggle datasets list"
      ]
    },
    {
      "cell_type": "code",
      "execution_count": null,
      "metadata": {
        "colab": {
          "base_uri": "https://localhost:8080/"
        },
        "id": "grKIkGSFOrZG",
        "outputId": "7aac12b7-0396-4a40-f46e-bb0c8cdb27d7"
      },
      "outputs": [
        {
          "output_type": "stream",
          "name": "stdout",
          "text": [
            "Downloading plant-seedlings-classification.zip to /content\n",
            "100% 1.69G/1.69G [00:19<00:00, 133MB/s]\n",
            "100% 1.69G/1.69G [00:19<00:00, 95.0MB/s]\n"
          ]
        }
      ],
      "source": [
        "!kaggle competitions download -c plant-seedlings-classification"
      ]
    },
    {
      "cell_type": "code",
      "execution_count": null,
      "metadata": {
        "id": "NT-Yqc6eO0Cq"
      },
      "outputs": [],
      "source": [
        "!unzip plant-seedlings-classification.zip"
      ]
    },
    {
      "cell_type": "code",
      "execution_count": null,
      "metadata": {
        "id": "qNP4FvZhPOCD"
      },
      "outputs": [],
      "source": [
        "!mkdir data"
      ]
    },
    {
      "cell_type": "code",
      "execution_count": null,
      "metadata": {
        "id": "Orcgqri-Pesj"
      },
      "outputs": [],
      "source": [
        "!mv train data/"
      ]
    },
    {
      "cell_type": "code",
      "execution_count": null,
      "metadata": {
        "id": "GRNp4tviPl33"
      },
      "outputs": [],
      "source": [
        "!mv ./test data/"
      ]
    },
    {
      "cell_type": "code",
      "execution_count": null,
      "metadata": {
        "id": "r9H1nASKQzpi"
      },
      "outputs": [],
      "source": [
        "%matplotlib inline"
      ]
    },
    {
      "cell_type": "code",
      "execution_count": null,
      "metadata": {
        "id": "sKCyE9OLQ4Fl"
      },
      "outputs": [],
      "source": [
        "import math\n",
        "import time\n",
        "import os\n",
        "import glob\n",
        "import numpy as np\n",
        "import matplotlib.pyplot as plt\n",
        "from tqdm import tqdm\n",
        "from PIL import Image\n",
        "from sklearn.metrics import confusion_matrix"
      ]
    },
    {
      "cell_type": "code",
      "execution_count": null,
      "metadata": {
        "id": "ylhHawc4Q6qY"
      },
      "outputs": [],
      "source": [
        "import torch\n",
        "import torch.nn as nn\n",
        "import torch.optim as optim\n",
        "\n",
        "import torchvision\n",
        "import torchvision.datasets as datasets\n",
        "import torchvision.models as models\n",
        "import torchvision.transforms as transforms\n",
        "from torchvision.utils import make_grid\n",
        "import torch.nn.functional as F #activation functions"
      ]
    },
    {
      "cell_type": "code",
      "execution_count": null,
      "metadata": {
        "id": "7bo3c0moRBrT"
      },
      "outputs": [],
      "source": [
        "#initial setups\n",
        "np.set_printoptions(precision=2)\n",
        "np.random.seed(159)"
      ]
    },
    {
      "cell_type": "code",
      "execution_count": null,
      "metadata": {
        "id": "55eW8rbPPrBm"
      },
      "outputs": [],
      "source": [
        "data_dir = './data/'\n",
        "sz = 224\n",
        "batch_size = 32"
      ]
    },
    {
      "cell_type": "code",
      "execution_count": null,
      "metadata": {
        "id": "dQ5nPLNxQK_m"
      },
      "outputs": [],
      "source": [
        "trn_dir = f'{data_dir}/train'"
      ]
    },
    {
      "cell_type": "code",
      "execution_count": null,
      "metadata": {
        "colab": {
          "base_uri": "https://localhost:8080/"
        },
        "id": "rX27qfNxQlXA",
        "outputId": "23d48b82-3a9d-4fba-9510-87b614d3e916"
      },
      "outputs": [
        {
          "output_type": "execute_result",
          "data": {
            "text/plain": [
              "['Scentless Mayweed',\n",
              " 'Maize',\n",
              " 'Sugar beet',\n",
              " 'Fat Hen',\n",
              " 'Common wheat',\n",
              " 'Common Chickweed',\n",
              " 'Cleavers',\n",
              " 'Small-flowered Cranesbill',\n",
              " 'Black-grass',\n",
              " 'Shepherds Purse',\n",
              " 'Loose Silky-bent',\n",
              " 'Charlock']"
            ]
          },
          "metadata": {},
          "execution_count": 18
        }
      ],
      "source": [
        "os.listdir(trn_dir)"
      ]
    },
    {
      "cell_type": "code",
      "execution_count": null,
      "metadata": {
        "colab": {
          "base_uri": "https://localhost:8080/"
        },
        "id": "b-Fe-vUyQvAd",
        "outputId": "0e8097c0-32c7-4b38-8e49-33866fb5c602"
      },
      "outputs": [
        {
          "output_type": "execute_result",
          "data": {
            "text/plain": [
              "['./data//train/Scentless Mayweed/f3f60c384.png',\n",
              " './data//train/Scentless Mayweed/d748c7307.png',\n",
              " './data//train/Scentless Mayweed/3585db717.png',\n",
              " './data//train/Scentless Mayweed/299bd761f.png',\n",
              " './data//train/Scentless Mayweed/0e4c95d3a.png']"
            ]
          },
          "metadata": {},
          "execution_count": 19
        }
      ],
      "source": [
        "#reading all file names from train folder (png ones)\n",
        "trn_fnames = glob.glob(f'{trn_dir}/*/*.png')\n",
        "trn_fnames[:5]"
      ]
    },
    {
      "cell_type": "code",
      "execution_count": null,
      "metadata": {
        "colab": {
          "base_uri": "https://localhost:8080/",
          "height": 268
        },
        "id": "pQs2PMQzRbB9",
        "outputId": "d36a04a9-772f-4c25-da91-b298cfd793f2"
      },
      "outputs": [
        {
          "output_type": "display_data",
          "data": {
            "text/plain": [
              "<Figure size 432x288 with 1 Axes>"
            ],
            "image/png": "[encoded data removed]"
          },
          "metadata": {
            "needs_background": "light"
          }
        }
      ],
      "source": [
        "img3 = plt.imread(trn_fnames[3]) #convert an image to a matrix\n",
        "plt.imshow(img3);"
      ]
    },
    {
      "cell_type": "code",
      "execution_count": null,
      "metadata": {
        "id": "izpGuJa3RzvA"
      },
      "outputs": [],
      "source": [
        "#Transformations\n",
        "tfms = transforms.Compose([\n",
        "    transforms.Resize((sz, sz)),\n",
        "    transforms.ToTensor(),\n",
        "    transforms.Normalize([0.485, 0.456, 0.456], [0.229, 0.224, 0.225]) #mean and standard deviation of RGBs form imagenet data \n",
        "    ])\n",
        "\n",
        "#redefile\n",
        "trn_ds = datasets.ImageFolder(trn_dir, transform = tfms)"
      ]
    },
    {
      "cell_type": "code",
      "execution_count": null,
      "metadata": {
        "colab": {
          "base_uri": "https://localhost:8080/"
        },
        "id": "GyMNfWCVSJ1B",
        "outputId": "1485bb97-9db3-4527-8629-d43c7d56d19f"
      },
      "outputs": [
        {
          "output_type": "execute_result",
          "data": {
            "text/plain": [
              "4750"
            ]
          },
          "metadata": {},
          "execution_count": 22
        }
      ],
      "source": [
        "len(trn_ds)"
      ]
    },
    {
      "cell_type": "code",
      "execution_count": null,
      "metadata": {
        "id": "T9JljHJTSNNR"
      },
      "outputs": [],
      "source": [
        "train_ds, test_ds = torch.utils.data.random_split(trn_ds, [4000, 750])"
      ]
    },
    {
      "cell_type": "code",
      "execution_count": null,
      "metadata": {
        "id": "UEVU0VYiSP9P"
      },
      "outputs": [],
      "source": [
        "train_ds, val_ds = torch.utils.data.random_split(train_ds, [3750, 250])"
      ]
    },
    {
      "cell_type": "code",
      "execution_count": null,
      "metadata": {
        "colab": {
          "base_uri": "https://localhost:8080/"
        },
        "id": "CEX_GsAZSSMB",
        "outputId": "999c5fd1-6e26-4e30-8fca-02c04a0d164d"
      },
      "outputs": [
        {
          "output_type": "execute_result",
          "data": {
            "text/plain": [
              "(3750, 250)"
            ]
          },
          "metadata": {},
          "execution_count": 25
        }
      ],
      "source": [
        "len(train_ds), len(val_ds)"
      ]
    },
    {
      "cell_type": "code",
      "execution_count": null,
      "metadata": {
        "id": "5lNWXrgKSVO8"
      },
      "outputs": [],
      "source": [
        "#dataloaders\n",
        "train_dl = torch.utils.data.DataLoader(train_ds, \n",
        "                                      batch_size = batch_size,\n",
        "                                      shuffle = True,\n",
        "                                      num_workers = 2)\n",
        "\n",
        "val_dl = torch.utils.data.DataLoader(val_ds,\n",
        "                                    batch_size = batch_size,\n",
        "                                    shuffle = True,\n",
        "                                    num_workers = 2)"
      ]
    },
    {
      "cell_type": "code",
      "execution_count": null,
      "metadata": {
        "colab": {
          "base_uri": "https://localhost:8080/"
        },
        "id": "IwzgzY20Sx8e",
        "outputId": "611dfa88-5ee1-41b9-e7cb-89f3b1985404"
      },
      "outputs": [
        {
          "output_type": "stream",
          "name": "stdout",
          "text": [
            "tensor([[[[-0.6281, -0.7650, -0.9705,  ..., -0.7479, -0.6452, -0.6794],\n",
            "          [-0.6109, -0.6623, -0.9363,  ..., -0.9020, -0.6965, -0.7308],\n",
            "          [-0.6109, -0.6452, -0.8849,  ..., -0.8164, -0.7308, -0.6965],\n",
            "          ...,\n",
            "          [-1.0562, -1.1760, -1.1760,  ..., -0.4911, -0.1828, -0.0801],\n",
            "          [-1.0390, -1.0219, -1.0904,  ..., -0.4739, -0.1486, -0.0458],\n",
            "          [-0.8849, -0.8849, -0.9705,  ..., -0.3883, -0.0972, -0.0116]],\n",
            "\n",
            "         [[-0.6352, -0.8978, -1.2479,  ..., -0.9328, -0.8277, -0.8277],\n",
            "          [-0.5826, -0.7227, -1.1779,  ..., -1.1078, -0.8627, -0.8978],\n",
            "          [-0.6352, -0.7227, -1.0728,  ..., -0.9853, -0.8803, -0.8277],\n",
            "          ...,\n",
            "          [-1.2479, -1.3354, -1.3529,  ..., -0.5476, -0.2150, -0.1275],\n",
            "          [-1.1954, -1.1779, -1.2654,  ..., -0.5476, -0.1800, -0.0924],\n",
            "          [-1.0903, -1.0903, -1.1954,  ..., -0.4601, -0.1275, -0.0574]],\n",
            "\n",
            "         [[-0.7195, -1.0332, -1.4515,  ..., -1.2249, -1.1029, -1.1203],\n",
            "          [-0.6323, -0.7892, -1.3121,  ..., -1.3644, -1.1552, -1.1726],\n",
            "          [-0.7020, -0.7543, -1.1726,  ..., -1.2424, -1.1726, -1.1203],\n",
            "          ...,\n",
            "          [-1.5038, -1.5212, -1.5386,  ..., -0.7543, -0.4580, -0.3360],\n",
            "          [-1.5038, -1.4689, -1.5561,  ..., -0.7892, -0.4406, -0.3360],\n",
            "          [-1.4166, -1.4341, -1.5038,  ..., -0.6672, -0.4232, -0.3360]]],\n",
            "\n",
            "\n",
            "        [[[ 0.3652,  0.3481,  0.3823,  ...,  0.1768,  0.1768,  0.1597],\n",
            "          [ 0.3823,  0.3652,  0.3481,  ...,  0.2111,  0.1768,  0.1768],\n",
            "          [ 0.4166,  0.3823,  0.3309,  ...,  0.1939,  0.1939,  0.1939],\n",
            "          ...,\n",
            "          [ 0.0056, -0.0287, -0.2342,  ...,  0.2796,  0.2967,  0.2282],\n",
            "          [-0.0458, -0.0629, -0.4226,  ...,  0.2796,  0.2967,  0.1597],\n",
            "          [-0.5082, -0.2513, -0.4568,  ...,  0.2111,  0.2624,  0.1597]],\n",
            "\n",
            "         [[ 0.4328,  0.4503,  0.4678,  ...,  0.2577,  0.2577,  0.2402],\n",
            "          [ 0.4678,  0.4503,  0.4503,  ...,  0.2752,  0.2577,  0.2752],\n",
            "          [ 0.5378,  0.4853,  0.4328,  ...,  0.2577,  0.2752,  0.2752],\n",
            "          ...,\n",
            "          [-0.2500, -0.2150, -0.4426,  ...,  0.1877,  0.2052,  0.1527],\n",
            "          [-0.2500, -0.2850, -0.6702,  ...,  0.1702,  0.2052,  0.1352],\n",
            "          [-0.7052, -0.4426, -0.7227,  ...,  0.0826,  0.1877,  0.1176]],\n",
            "\n",
            "         [[ 0.4134,  0.4308,  0.4483,  ...,  0.1694,  0.1520,  0.1520],\n",
            "          [ 0.4483,  0.4308,  0.4134,  ...,  0.1694,  0.1694,  0.1868],\n",
            "          [ 0.5006,  0.4483,  0.3960,  ...,  0.2043,  0.1868,  0.2043],\n",
            "          ...,\n",
            "          [-0.7543, -0.7195, -0.9286,  ..., -0.1792, -0.0920, -0.0746],\n",
            "          [-0.7543, -0.7892, -1.1203,  ..., -0.2140, -0.0920, -0.1617],\n",
            "          [-1.0681, -0.8763, -1.0681,  ..., -0.2837, -0.1269, -0.1617]]],\n",
            "\n",
            "\n",
            "        [[[-0.9705, -0.9363, -0.9705,  ..., -0.7993, -0.8507, -0.9363],\n",
            "          [-0.9192, -0.9363, -0.9705,  ..., -0.7650, -0.8335, -0.9534],\n",
            "          [-0.9192, -0.9534, -1.0048,  ..., -0.7479, -0.8164, -0.8849],\n",
            "          ...,\n",
            "          [-0.8849, -0.9363, -0.9534,  ..., -0.7993, -0.7822, -0.7650],\n",
            "          [-0.7308, -0.7822, -0.9534,  ..., -0.7993, -0.7650, -0.7650],\n",
            "          [-0.5767, -0.6281, -0.9363,  ..., -0.7822, -0.7650, -0.8507]],\n",
            "\n",
            "         [[-0.6352, -0.5826, -0.6352,  ..., -0.8102, -0.6877, -0.6877],\n",
            "          [-0.5476, -0.5651, -0.6176,  ..., -0.8102, -0.6877, -0.6877],\n",
            "          [-0.5476, -0.5826, -0.6527,  ..., -0.8277, -0.7227, -0.6527],\n",
            "          ...,\n",
            "          [-0.9853, -1.0378, -1.0728,  ..., -0.9503, -0.9503, -0.9678],\n",
            "          [-0.8102, -0.8452, -1.0553,  ..., -0.9503, -0.9153, -0.9328],\n",
            "          [-0.6352, -0.7052, -1.0378,  ..., -0.9678, -0.9153, -1.0028]],\n",
            "\n",
            "         [[-1.5386, -1.4341, -1.4864,  ..., -1.2424, -1.2946, -1.4689],\n",
            "          [-1.4166, -1.4515, -1.4689,  ..., -1.2075, -1.2249, -1.4166],\n",
            "          [-1.4166, -1.4515, -1.4864,  ..., -1.1901, -1.2249, -1.3121],\n",
            "          ...,\n",
            "          [-1.1901, -1.2075, -1.2598,  ..., -1.2249, -1.1901, -1.1726],\n",
            "          [-1.0681, -1.0681, -1.2598,  ..., -1.1901, -1.1552, -1.1552],\n",
            "          [-0.9461, -0.9461, -1.2598,  ..., -1.1552, -1.1552, -1.2424]]],\n",
            "\n",
            "\n",
            "        ...,\n",
            "\n",
            "\n",
            "        [[[-0.5424, -0.5253, -0.5082,  ..., -0.9534, -0.9705, -0.9705],\n",
            "          [-0.5253, -0.5082, -0.5082,  ..., -0.9363, -0.9534, -0.9534],\n",
            "          [-0.4739, -0.4911, -0.4911,  ..., -0.9192, -0.9192, -0.9020],\n",
            "          ...,\n",
            "          [ 0.2624,  0.2624,  0.2624,  ..., -0.6281, -0.6109, -0.6109],\n",
            "          [ 0.2624,  0.2624,  0.2796,  ..., -0.6794, -0.6623, -0.6452],\n",
            "          [ 0.2624,  0.2624,  0.2796,  ..., -0.6965, -0.6794, -0.6623]],\n",
            "\n",
            "         [[-0.7402, -0.7227, -0.6702,  ..., -0.5476, -0.5476, -0.5476],\n",
            "          [-0.7052, -0.7052, -0.6702,  ..., -0.5476, -0.5301, -0.5301],\n",
            "          [-0.6527, -0.6702, -0.6702,  ..., -0.5301, -0.5126, -0.5126],\n",
            "          ...,\n",
            "          [ 0.0476,  0.0476,  0.0476,  ..., -0.8452, -0.8102, -0.7927],\n",
            "          [ 0.0476,  0.0476,  0.0651,  ..., -0.8803, -0.8452, -0.8277],\n",
            "          [ 0.0476,  0.0476,  0.0651,  ..., -0.8978, -0.8627, -0.8452]],\n",
            "\n",
            "         [[-0.9983, -0.9809, -0.9286,  ..., -2.0267, -2.0267, -2.0267],\n",
            "          [-0.9635, -0.9635, -0.9286,  ..., -2.0092, -2.0092, -1.9918],\n",
            "          [-0.9112, -0.9112, -0.9112,  ..., -1.9918, -1.9569, -1.9395],\n",
            "          ...,\n",
            "          [-0.4580, -0.4580, -0.4406,  ..., -1.1029, -1.1029, -1.1029],\n",
            "          [-0.4580, -0.4406, -0.4232,  ..., -1.1552, -1.1378, -1.1378],\n",
            "          [-0.4580, -0.4406, -0.4232,  ..., -1.1726, -1.1552, -1.1552]]],\n",
            "\n",
            "\n",
            "        [[[ 0.5022,  0.5022,  0.5364,  ...,  0.6392,  0.6392,  0.6563],\n",
            "          [ 0.4508,  0.4851,  0.5022,  ...,  0.5878,  0.6221,  0.6392],\n",
            "          [ 0.4337,  0.4851,  0.4851,  ...,  0.5878,  0.5878,  0.5878],\n",
            "          ...,\n",
            "          [-0.3369, -0.5424, -0.7479,  ..., -0.8164, -0.5596, -0.4054],\n",
            "          [-0.0972, -0.4226, -0.9877,  ..., -0.6623, -0.5938, -0.2513],\n",
            "          [-0.3541, -0.8164, -0.9705,  ..., -0.3541, -0.3712, -0.2513]],\n",
            "\n",
            "         [[ 0.6254,  0.6254,  0.6429,  ...,  0.7129,  0.7479,  0.7479],\n",
            "          [ 0.5728,  0.6078,  0.6254,  ...,  0.6604,  0.7304,  0.7129],\n",
            "          [ 0.5553,  0.6078,  0.5903,  ...,  0.6954,  0.6954,  0.6779],\n",
            "          ...,\n",
            "          [-0.5126, -0.7927, -1.0203,  ..., -1.1253, -0.8452, -0.7227],\n",
            "          [-0.1625, -0.5826, -1.2129,  ..., -1.0378, -1.0203, -0.5651],\n",
            "          [-0.5301, -1.0553, -1.2479,  ..., -0.8452, -0.9153, -0.6702]],\n",
            "\n",
            "         [[ 0.6226,  0.6051,  0.6400,  ...,  0.6923,  0.6923,  0.7097],\n",
            "          [ 0.5703,  0.6051,  0.6051,  ...,  0.6400,  0.6923,  0.6923],\n",
            "          [ 0.5529,  0.6051,  0.5877,  ...,  0.6749,  0.6749,  0.6574],\n",
            "          ...,\n",
            "          [-0.8763, -1.1378, -1.3469,  ..., -1.3121, -1.1378, -1.1203],\n",
            "          [-0.4058, -0.8241, -1.4515,  ..., -1.2946, -1.3469, -0.9983],\n",
            "          [-0.7892, -1.3469, -1.5212,  ..., -1.2946, -1.3121, -1.1029]]],\n",
            "\n",
            "\n",
            "        [[[-0.5424, -0.5596, -0.5767,  ..., -1.0219, -0.9877, -0.9705],\n",
            "          [-0.6109, -0.6109, -0.6109,  ..., -0.9877, -0.9534, -0.9534],\n",
            "          [-0.7137, -0.7137, -0.6794,  ..., -0.9363, -0.9192, -0.9192],\n",
            "          ...,\n",
            "          [-0.5253, -0.4568, -0.3369,  ..., -0.2342, -0.2856, -0.3198],\n",
            "          [-0.5596, -0.4911, -0.3712,  ..., -0.2171, -0.2513, -0.2856],\n",
            "          [-0.5767, -0.5082, -0.4054,  ..., -0.1999, -0.2342, -0.2684]],\n",
            "\n",
            "         [[-0.6702, -0.6877, -0.7227,  ..., -1.2654, -1.2304, -1.2129],\n",
            "          [-0.7402, -0.7577, -0.7577,  ..., -1.2304, -1.1954, -1.1954],\n",
            "          [-0.8803, -0.8627, -0.8452,  ..., -1.1779, -1.1604, -1.1604],\n",
            "          ...,\n",
            "          [-0.7577, -0.6877, -0.5476,  ..., -0.3725, -0.4426, -0.4601],\n",
            "          [-0.7927, -0.7402, -0.6352,  ..., -0.3550, -0.4076, -0.4251],\n",
            "          [-0.8277, -0.7752, -0.6702,  ..., -0.3550, -0.3901, -0.4076]],\n",
            "\n",
            "         [[-1.0506, -1.0855, -1.1203,  ..., -1.5212, -1.4864, -1.4689],\n",
            "          [-1.1378, -1.1552, -1.1552,  ..., -1.4864, -1.4515, -1.4341],\n",
            "          [-1.2772, -1.2598, -1.2424,  ..., -1.4166, -1.3992, -1.3818],\n",
            "          ...,\n",
            "          [-1.2075, -1.1203, -0.9635,  ..., -0.8415, -0.9112, -0.9461],\n",
            "          [-1.2598, -1.1901, -1.0506,  ..., -0.8589, -0.8938, -0.9286],\n",
            "          [-1.2946, -1.2249, -1.1029,  ..., -0.8589, -0.8938, -0.9286]]]])\n",
            "tensor([ 2,  1,  6, 11, 10,  2,  5,  9,  8,  2,  7,  7,  6,  5,  2,  3, 10,  8,\n",
            "         0,  1,  6, 11,  0,  6,  8,  4,  2,  1,  4,  3,  0,  5])\n"
          ]
        }
      ],
      "source": [
        "#let's look at the inside of the train_loader \n",
        "for i, j in train_dl:\n",
        "    print(i)\n",
        "    print(j)\n",
        "    break"
      ]
    },
    {
      "cell_type": "code",
      "execution_count": null,
      "metadata": {
        "colab": {
          "base_uri": "https://localhost:8080/",
          "height": 647
        },
        "id": "2lfKXHQIS9xy",
        "outputId": "4fc351a0-d9c6-4c66-8503-4c5e8746125f"
      },
      "outputs": [
        {
          "output_type": "stream",
          "name": "stderr",
          "text": [
            "WARNING:matplotlib.image:Clipping input data to the valid range for imshow with RGB data ([0..1] for floats or [0..255] for integers).\n"
          ]
        },
        {
          "output_type": "stream",
          "name": "stdout",
          "text": [
            "torch.Size([32, 3, 224, 224])\n",
            "torch.Size([3, 1810, 906])\n"
          ]
        },
        {
          "output_type": "display_data",
          "data": {
            "text/plain": [
              "<Figure size 1440x720 with 1 Axes>"
            ],
            "image/png": "[encoded data removed]"
          },
          "metadata": {
            "needs_background": "light"
          }
        }
      ],
      "source": [
        "#let's look at a batch of the images (after the transformation)\n",
        "print(i.shape)\n",
        "images = make_grid(i, nrow=4)  \n",
        "print(images.shape)\n",
        "plt.figure(figsize=(20,10))\n",
        "plt.imshow(np.transpose(images.numpy(), (1, 2, 0)));"
      ]
    },
    {
      "cell_type": "code",
      "execution_count": null,
      "metadata": {
        "id": "qed9I_1aSduJ"
      },
      "outputs": [],
      "source": [
        "class CNN(nn.Module):\n",
        "    \n",
        "    def __init__(self):\n",
        "        super(CNN, self).__init__()\n",
        "        \n",
        "        self.conv1 = nn.Conv2d(in_channels=3, out_channels=10, kernel_size=3, stride=1)\n",
        "        nn.BatchNorm2d(10)\n",
        "        self.conv2 = nn.Conv2d(in_channels=10, out_channels=20, kernel_size=3, stride=1)\n",
        "        nn.BatchNorm2d(20)\n",
        "        nn.Dropout(0.1)\n",
        "        self.conv3 = nn.Conv2d(in_channels=20, out_channels=30, kernel_size=3, stride=1)\n",
        "        nn.BatchNorm2d(30)\n",
        "        nn.Dropout(0.1)\n",
        "        self.conv4 = nn.Conv2d(in_channels=30, out_channels=40, kernel_size=3, stride=1)\n",
        "        nn.BatchNorm2d(40)\n",
        "        nn.Dropout(0.1)\n",
        "        self.conv5 = nn.Conv2d(in_channels=40, out_channels=50, kernel_size=3, stride=1)\n",
        "        nn.BatchNorm2d(50)\n",
        "        nn.Dropout(0.5)\n",
        "        self.conv6 = nn.Conv2d(in_channels=50, out_channels=50, kernel_size=3, stride=1)\n",
        "        nn.BatchNorm2d(50)\n",
        "        nn.Dropout(0.5)\n",
        "        self.fc1 = nn.Linear(24*24*50, 400)\n",
        "        self.fc2 = nn.Linear(400, 200)\n",
        "        self.fc3 = nn.Linear(200, 12)\n",
        "\n",
        "    def forward(self, X):\n",
        "        X = F.relu(self.conv1(X)) #224*224 => 222*222 \n",
        "        X = F.relu(self.conv2(X)) #222*222 => 220*220\n",
        "        X = F.max_pool2d(X, 2, 2) #220*220 => 110*110\n",
        "        X = F.relu(self.conv3(X)) #110*110 => 108*108\n",
        "        X = F.relu(self.conv4(X)) #108*108 => 106*106\n",
        "        X = F.max_pool2d(X, 2, 2) #106*106 => 53*53  \n",
        "        X = F.relu(self.conv5(X)) #53*53 => 51*51\n",
        "        X = F.relu(self.conv6(X)) #51*51 => 49*49\n",
        "        X = F.max_pool2d(X, 2, 2) #49*49 => 24*24\n",
        "        X = X.view(-1, 24*24*50)\n",
        "        X = F.relu(self.fc1(X))\n",
        "        X = F.relu(self.fc2(X))\n",
        "        X = self.fc3(X)\n",
        "        return F.log_softmax(X, dim=1)"
      ]
    },
    {
      "cell_type": "code",
      "execution_count": null,
      "metadata": {
        "id": "gUG-X0-zSr1m"
      },
      "outputs": [],
      "source": [
        "model = CNN()\n",
        "\n",
        "#transfer model to GPU, if gpu is available\n",
        "device = torch.device('cuda' if torch.cuda.is_available() else 'cpu')\n",
        "\n",
        "model = model.to(device)"
      ]
    },
    {
      "cell_type": "code",
      "execution_count": null,
      "metadata": {
        "id": "2lyj-EzVTKTf"
      },
      "outputs": [],
      "source": [
        "criterion = nn.CrossEntropyLoss()\n",
        "optimizer = optim.Adam(model.parameters(), lr=3e-4)"
      ]
    },
    {
      "cell_type": "code",
      "execution_count": null,
      "metadata": {
        "id": "MKUSDrgiTXr7"
      },
      "outputs": [],
      "source": [
        "def evaluate_model(model, dataloader, device):\n",
        "    model.eval()  # for batch normalization layers\n",
        "    corrects = 0\n",
        "    \n",
        "    with torch.no_grad():\n",
        "        for inputs, targets in dataloader:\n",
        "            inputs, targets = inputs.to(device), targets.to(device)\n",
        "            outputs = model(inputs)\n",
        "            _, preds = torch.max(outputs, 1)\n",
        "            corrects += (preds == targets.data).sum()\n",
        "    \n",
        "    return 'accuracy: {:.2f}'.format(100. * corrects / len(dataloader.dataset))"
      ]
    },
    {
      "cell_type": "code",
      "execution_count": null,
      "metadata": {
        "colab": {
          "base_uri": "https://localhost:8080/",
          "height": 38
        },
        "id": "F5vhzVuyzLL6",
        "outputId": "97bae120-2fb6-4b88-e3bd-3be51a0f852a"
      },
      "outputs": [
        {
          "output_type": "execute_result",
          "data": {
            "text/plain": [
              "'accuracy: 6.80'"
            ],
            "application/vnd.google.colaboratory.intrinsic+json": {
              "type": "string"
            }
          },
          "metadata": {},
          "execution_count": 34
        }
      ],
      "source": [
        "evaluate_model(model, val_dl, device)"
      ]
    },
    {
      "cell_type": "code",
      "execution_count": null,
      "metadata": {
        "colab": {
          "base_uri": "https://localhost:8080/"
        },
        "id": "JfhK2sJVTSpJ",
        "outputId": "e523315e-6e07-4e75-e63a-643383df7fbd"
      },
      "outputs": [
        {
          "output_type": "stream",
          "name": "stdout",
          "text": [
            "Epoch: 0. Mean loss: 2.426841349925025.\n",
            "On train:  accuracy: 13.97\n",
            "On validation:  accuracy: 14.00\n",
            "Epoch: 1. Mean loss: 2.414656152159481.\n",
            "On train:  accuracy: 15.81\n",
            "On validation:  accuracy: 16.80\n",
            "Epoch: 2. Mean loss: 1.831235964419478.\n",
            "On train:  accuracy: 48.72\n",
            "On validation:  accuracy: 46.80\n",
            "Epoch: 3. Mean loss: 1.3788870406352867.\n",
            "On train:  accuracy: 55.79\n",
            "On validation:  accuracy: 53.20\n",
            "Epoch: 4. Mean loss: 1.1740681574506275.\n",
            "On train:  accuracy: 67.07\n",
            "On validation:  accuracy: 61.20\n",
            "Epoch: 5. Mean loss: 0.8993452888424114.\n",
            "On train:  accuracy: 76.13\n",
            "On validation:  accuracy: 66.00\n",
            "Epoch: 6. Mean loss: 0.6943565053960025.\n",
            "On train:  accuracy: 80.56\n",
            "On validation:  accuracy: 68.80\n",
            "Epoch: 7. Mean loss: 0.5782127913277028.\n",
            "On train:  accuracy: 85.55\n",
            "On validation:  accuracy: 68.80\n",
            "Epoch: 8. Mean loss: 0.46347459816073966.\n",
            "On train:  accuracy: 86.08\n",
            "On validation:  accuracy: 71.60\n",
            "Epoch: 9. Mean loss: 0.3844838316662837.\n",
            "On train:  accuracy: 88.96\n",
            "On validation:  accuracy: 70.00\n",
            "Epoch: 10. Mean loss: 0.29573481397356016.\n",
            "On train:  accuracy: 91.17\n",
            "On validation:  accuracy: 74.00\n",
            "Epoch: 11. Mean loss: 0.2599070224303247.\n",
            "On train:  accuracy: 91.81\n",
            "On validation:  accuracy: 70.00\n",
            "Epoch: 12. Mean loss: 0.22214102574576766.\n",
            "On train:  accuracy: 94.05\n",
            "On validation:  accuracy: 73.20\n",
            "Epoch: 13. Mean loss: 0.2412575137627832.\n",
            "On train:  accuracy: 97.25\n",
            "On validation:  accuracy: 78.80\n"
          ]
        }
      ],
      "source": [
        "num_epochs = 14\n",
        "\n",
        "for epoch in range(num_epochs):\n",
        "    losses = []\n",
        "    for batch, (inputs, targets) in enumerate(train_dl):\n",
        "        #forwad pass\n",
        "        outputs = model(inputs)\n",
        "        \n",
        "        #loss\n",
        "        loss = criterion(outputs, targets)\n",
        "        losses.append(loss.item())\n",
        "\n",
        "        predicted = torch.max(outputs.data, 1)[1]\n",
        "\n",
        "        #backward pass(calculate the gradients)\n",
        "        optimizer.zero_grad()\n",
        "        loss.backward()\n",
        "        \n",
        "        #update parameters\n",
        "        optimizer.step()\n",
        "        \n",
        "    print(\"Epoch: \" + str(epoch) + \". Mean loss: \" + str(sum(losses)/len(losses)) + \".\")\n",
        "    print(\"On train: \", evaluate_model(model, train_dl, device))\n",
        "    print(\"On validation: \", evaluate_model(model, val_dl, device))"
      ]
    }
  ],
  "metadata": {
    "colab": {
      "collapsed_sections": [],
      "provenance": []
    },
    "kernelspec": {
      "display_name": "Python 3",
      "name": "python3"
    },
    "language_info": {
      "name": "python"
    }
  },
  "nbformat": 4,
  "nbformat_minor": 0
}